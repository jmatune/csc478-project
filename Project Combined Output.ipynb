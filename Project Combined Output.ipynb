{
 "cells": [
  {
   "cell_type": "markdown",
   "metadata": {},
   "source": [
    "### Exploratory Analysis"
   ]
  },
  {
   "cell_type": "code",
   "execution_count": 3,
   "metadata": {},
   "outputs": [
    {
     "data": {
      "text/html": [
       "<div>\n",
       "<style scoped>\n",
       "    .dataframe tbody tr th:only-of-type {\n",
       "        vertical-align: middle;\n",
       "    }\n",
       "\n",
       "    .dataframe tbody tr th {\n",
       "        vertical-align: top;\n",
       "    }\n",
       "\n",
       "    .dataframe thead th {\n",
       "        text-align: right;\n",
       "    }\n",
       "</style>\n",
       "<table border=\"1\" class=\"dataframe\">\n",
       "  <thead>\n",
       "    <tr style=\"text-align: right;\">\n",
       "      <th></th>\n",
       "      <th>School_ID</th>\n",
       "      <th>School_Type</th>\n",
       "      <th>Student_Count_Total</th>\n",
       "      <th>ADA_Accessible</th>\n",
       "      <th>Dress_Code</th>\n",
       "      <th>Bilingual_Services</th>\n",
       "      <th>Refugee_Services</th>\n",
       "      <th>Title_1_Eligible</th>\n",
       "      <th>Average_ACT_School</th>\n",
       "      <th>College_Enrollment_Rate_School</th>\n",
       "      <th>...</th>\n",
       "      <th>Student_Attendance_Change</th>\n",
       "      <th>Teacher_Attendance_Change</th>\n",
       "      <th>One_Year_Dropout_Rate_Change</th>\n",
       "      <th>Student_Low_Income_Pct</th>\n",
       "      <th>Student_Special_Ed_Pct</th>\n",
       "      <th>Student_English_Learners_Pct</th>\n",
       "      <th>Student_Black_Pct</th>\n",
       "      <th>Student_Hispanic_Pct</th>\n",
       "      <th>Student_White_Pct</th>\n",
       "      <th>Student_Asian_Pct</th>\n",
       "    </tr>\n",
       "  </thead>\n",
       "  <tbody>\n",
       "    <tr>\n",
       "      <th>0</th>\n",
       "      <td>609764</td>\n",
       "      <td>Neighborhood</td>\n",
       "      <td>1739</td>\n",
       "      <td>Generally accessible</td>\n",
       "      <td>N</td>\n",
       "      <td>Y</td>\n",
       "      <td>Y</td>\n",
       "      <td>Y</td>\n",
       "      <td>16.5</td>\n",
       "      <td>50.6</td>\n",
       "      <td>...</td>\n",
       "      <td>-0.3</td>\n",
       "      <td>4.8</td>\n",
       "      <td>-0.4</td>\n",
       "      <td>0.953997</td>\n",
       "      <td>0.161587</td>\n",
       "      <td>0.190339</td>\n",
       "      <td>0.033353</td>\n",
       "      <td>0.945371</td>\n",
       "      <td>0.006901</td>\n",
       "      <td>0.002875</td>\n",
       "    </tr>\n",
       "    <tr>\n",
       "      <th>1</th>\n",
       "      <td>400054</td>\n",
       "      <td>Charter</td>\n",
       "      <td>992</td>\n",
       "      <td>Generally accessible</td>\n",
       "      <td>Y</td>\n",
       "      <td>N</td>\n",
       "      <td>N</td>\n",
       "      <td>Y</td>\n",
       "      <td>21.9</td>\n",
       "      <td>85.7</td>\n",
       "      <td>...</td>\n",
       "      <td>0.6</td>\n",
       "      <td>0.0</td>\n",
       "      <td>-0.8</td>\n",
       "      <td>0.943548</td>\n",
       "      <td>0.106855</td>\n",
       "      <td>0.120968</td>\n",
       "      <td>0.030242</td>\n",
       "      <td>0.952621</td>\n",
       "      <td>0.009073</td>\n",
       "      <td>0.001008</td>\n",
       "    </tr>\n",
       "    <tr>\n",
       "      <th>2</th>\n",
       "      <td>609726</td>\n",
       "      <td>Selective enrollment</td>\n",
       "      <td>959</td>\n",
       "      <td>Fully Accessible</td>\n",
       "      <td>N</td>\n",
       "      <td>N</td>\n",
       "      <td>N</td>\n",
       "      <td>Y</td>\n",
       "      <td>22.5</td>\n",
       "      <td>85.1</td>\n",
       "      <td>...</td>\n",
       "      <td>0.0</td>\n",
       "      <td>4.7</td>\n",
       "      <td>-1.2</td>\n",
       "      <td>0.721585</td>\n",
       "      <td>0.061522</td>\n",
       "      <td>0.002086</td>\n",
       "      <td>0.789364</td>\n",
       "      <td>0.182482</td>\n",
       "      <td>0.007299</td>\n",
       "      <td>0.001043</td>\n",
       "    </tr>\n",
       "    <tr>\n",
       "      <th>3</th>\n",
       "      <td>400094</td>\n",
       "      <td>Charter</td>\n",
       "      <td>523</td>\n",
       "      <td>Generally accessible</td>\n",
       "      <td>Y</td>\n",
       "      <td>Y</td>\n",
       "      <td>N</td>\n",
       "      <td>Y</td>\n",
       "      <td>17.5</td>\n",
       "      <td>72.7</td>\n",
       "      <td>...</td>\n",
       "      <td>-0.9</td>\n",
       "      <td>0.0</td>\n",
       "      <td>0.6</td>\n",
       "      <td>0.938815</td>\n",
       "      <td>0.223709</td>\n",
       "      <td>0.137667</td>\n",
       "      <td>0.632887</td>\n",
       "      <td>0.355641</td>\n",
       "      <td>0.003824</td>\n",
       "      <td>0.000000</td>\n",
       "    </tr>\n",
       "    <tr>\n",
       "      <th>4</th>\n",
       "      <td>609755</td>\n",
       "      <td>Selective enrollment</td>\n",
       "      <td>2156</td>\n",
       "      <td>Generally accessible</td>\n",
       "      <td>N</td>\n",
       "      <td>Y</td>\n",
       "      <td>N</td>\n",
       "      <td>N</td>\n",
       "      <td>27.9</td>\n",
       "      <td>85.2</td>\n",
       "      <td>...</td>\n",
       "      <td>-0.6</td>\n",
       "      <td>4.7</td>\n",
       "      <td>0.6</td>\n",
       "      <td>0.413265</td>\n",
       "      <td>0.066790</td>\n",
       "      <td>0.010668</td>\n",
       "      <td>0.213822</td>\n",
       "      <td>0.298701</td>\n",
       "      <td>0.282468</td>\n",
       "      <td>0.159091</td>\n",
       "    </tr>\n",
       "  </tbody>\n",
       "</table>\n",
       "<p>5 rows × 53 columns</p>\n",
       "</div>"
      ],
      "text/plain": [
       "   School_ID           School_Type  Student_Count_Total        ADA_Accessible  \\\n",
       "0     609764          Neighborhood                 1739  Generally accessible   \n",
       "1     400054               Charter                  992  Generally accessible   \n",
       "2     609726  Selective enrollment                  959      Fully Accessible   \n",
       "3     400094               Charter                  523  Generally accessible   \n",
       "4     609755  Selective enrollment                 2156  Generally accessible   \n",
       "\n",
       "  Dress_Code Bilingual_Services Refugee_Services Title_1_Eligible  \\\n",
       "0          N                  Y                Y                Y   \n",
       "1          Y                  N                N                Y   \n",
       "2          N                  N                N                Y   \n",
       "3          Y                  Y                N                Y   \n",
       "4          N                  Y                N                N   \n",
       "\n",
       "   Average_ACT_School  College_Enrollment_Rate_School        ...         \\\n",
       "0                16.5                            50.6        ...          \n",
       "1                21.9                            85.7        ...          \n",
       "2                22.5                            85.1        ...          \n",
       "3                17.5                            72.7        ...          \n",
       "4                27.9                            85.2        ...          \n",
       "\n",
       "   Student_Attendance_Change Teacher_Attendance_Change  \\\n",
       "0                       -0.3                       4.8   \n",
       "1                        0.6                       0.0   \n",
       "2                        0.0                       4.7   \n",
       "3                       -0.9                       0.0   \n",
       "4                       -0.6                       4.7   \n",
       "\n",
       "  One_Year_Dropout_Rate_Change Student_Low_Income_Pct Student_Special_Ed_Pct  \\\n",
       "0                         -0.4               0.953997               0.161587   \n",
       "1                         -0.8               0.943548               0.106855   \n",
       "2                         -1.2               0.721585               0.061522   \n",
       "3                          0.6               0.938815               0.223709   \n",
       "4                          0.6               0.413265               0.066790   \n",
       "\n",
       "  Student_English_Learners_Pct Student_Black_Pct Student_Hispanic_Pct  \\\n",
       "0                     0.190339          0.033353             0.945371   \n",
       "1                     0.120968          0.030242             0.952621   \n",
       "2                     0.002086          0.789364             0.182482   \n",
       "3                     0.137667          0.632887             0.355641   \n",
       "4                     0.010668          0.213822             0.298701   \n",
       "\n",
       "  Student_White_Pct Student_Asian_Pct  \n",
       "0          0.006901          0.002875  \n",
       "1          0.009073          0.001008  \n",
       "2          0.007299          0.001043  \n",
       "3          0.003824          0.000000  \n",
       "4          0.282468          0.159091  \n",
       "\n",
       "[5 rows x 53 columns]"
      ]
     },
     "execution_count": 3,
     "metadata": {},
     "output_type": "execute_result"
    }
   ],
   "source": [
    "import pandas as pd\n",
    "import numpy as np\n",
    "import matplotlib.pyplot as plt\n",
    "% matplotlib inline\n",
    "\n",
    "# read in cleaned data\n",
    "hs_data = pd.read_csv('processed_nodummies.csv', header=0, sep=',')\n",
    "hs_data.head()"
   ]
  },
  {
   "cell_type": "code",
   "execution_count": null,
   "metadata": {},
   "outputs": [],
   "source": [
    "# distribution of target variable (graduation rate)\n",
    "\n",
    "plt.hist(hs_data['Graduation_Rate_School'])\n",
    "plt.xlabel('Graduation Rate')\n",
    "plt.ylabel('Frequency')\n",
    "plt.title('Graduation Rate Distribution')\n",
    "plt.show()"
   ]
  },
  {
   "cell_type": "code",
   "execution_count": null,
   "metadata": {},
   "outputs": [],
   "source": [
    "# Categorical Variables\n",
    "hs_data.describe(exclude=[np.number]).T\n"
   ]
  },
  {
   "cell_type": "markdown",
   "metadata": {},
   "source": [
    "#### Factors by School Type"
   ]
  },
  {
   "cell_type": "code",
   "execution_count": null,
   "metadata": {},
   "outputs": [],
   "source": [
    "# distribution of school type\n",
    "hs_data['School_Type'].value_counts().plot(kind='bar', title='School Types')"
   ]
  },
  {
   "cell_type": "code",
   "execution_count": null,
   "metadata": {},
   "outputs": [],
   "source": [
    "#income\n",
    "hs_data.boxplot(column=['PER CAPITA INCOME '],by=['School_Type'], figsize=(15,8))"
   ]
  },
  {
   "cell_type": "code",
   "execution_count": null,
   "metadata": {},
   "outputs": [],
   "source": [
    "#hardship index\n",
    "hs_data.boxplot(column=['HARDSHIP INDEX'],by=['School_Type'], figsize=(15,8))"
   ]
  },
  {
   "cell_type": "code",
   "execution_count": null,
   "metadata": {},
   "outputs": [],
   "source": [
    "#Library count by school type\n",
    "hs_data.boxplot(column=['lib_cnt'],by=['School_Type'], figsize=(15,8))"
   ]
  },
  {
   "cell_type": "code",
   "execution_count": null,
   "metadata": {},
   "outputs": [],
   "source": [
    "# distribution of student growth rating\n",
    "hs_data['Student_Growth_Rating'].value_counts().plot(kind='bar', title='Student Growth Ratings')"
   ]
  },
  {
   "cell_type": "markdown",
   "metadata": {},
   "source": [
    "#### School Rating"
   ]
  },
  {
   "cell_type": "code",
   "execution_count": null,
   "metadata": {},
   "outputs": [],
   "source": [
    "#distribution of overall rating\n",
    "hs_data['Overall_Rating'].value_counts().plot(kind='bar', title='School Rating')"
   ]
  },
  {
   "cell_type": "code",
   "execution_count": null,
   "metadata": {},
   "outputs": [],
   "source": [
    "#rating status\n",
    "hs_data['Rating_Status'].value_counts().plot(kind='bar', title='Rating Status')"
   ]
  },
  {
   "cell_type": "markdown",
   "metadata": {},
   "source": [
    "#### Languages"
   ]
  },
  {
   "cell_type": "code",
   "execution_count": null,
   "metadata": {},
   "outputs": [],
   "source": [
    "# distirubtion of overall language\n",
    "hs_data['PRED_NON_ENG_LANG'].value_counts().plot(kind='bar', title='Non English Languages')"
   ]
  },
  {
   "cell_type": "code",
   "execution_count": null,
   "metadata": {},
   "outputs": [],
   "source": [
    "# Graduation rate by predominant languages\n",
    "hs_data.boxplot(column=['Graduation_Rate_School'],by=['PRED_NON_ENG_LANG'])"
   ]
  },
  {
   "cell_type": "markdown",
   "metadata": {},
   "source": [
    "#### Correlation Analysis"
   ]
  },
  {
   "cell_type": "code",
   "execution_count": null,
   "metadata": {},
   "outputs": [],
   "source": [
    "data=pd.read_csv('processed_nodummies.csv', index_col=0)\n",
    "pd.set_option('display.max_columns', 100)\n",
    "data.corr()"
   ]
  },
  {
   "cell_type": "markdown",
   "metadata": {},
   "source": [
    "Graduation rate appears to have a strong positive correlation with College_Enrollment_Rate_School (0.65). Student_Special_Ed_Pct has strong negative correlation with graduation rate (-0.61).\n",
    "\n",
    "Several variables have a weak positive correlation with graduation rate: \n",
    "\n",
    "1. College_Persistence_School_Pct_Year_2 (0.47)\n",
    "2. Attainment_ACT_Grade_1 (0.45)\n",
    "3. Growth_ACT_Grade_11_Pct (0.34)\n",
    "4. Average_ACT_School (0.46)\n",
    "5. Student_Count_Total (0.39)"
   ]
  },
  {
   "cell_type": "markdown",
   "metadata": {},
   "source": [
    "#### Target Variable Distribution"
   ]
  },
  {
   "cell_type": "code",
   "execution_count": null,
   "metadata": {},
   "outputs": [],
   "source": [
    "# distribution of target variable (graduation rate)\n",
    "\n",
    "plt.hist(hs_data['Graduation_Rate_School'])\n",
    "plt.xlabel('Graduation Rate')\n",
    "plt.ylabel('Frequency')\n",
    "plt.title('Graduation Rate Distribution')\n",
    "plt.show()"
   ]
  },
  {
   "cell_type": "code",
   "execution_count": null,
   "metadata": {},
   "outputs": [],
   "source": [
    "# scatter matrix\n",
    "pd.plotting.scatter_matrix(data[['Graduation_Rate_School','College_Enrollment_Rate_School','Student_Special_Ed_Pct','College_Persistence_School_Pct_Year_2','Attainment_ACT_Grade_11_Pct','Growth_ACT_Grade_11_Pct','Average_ACT_School','Student_Count_Total']], figsize=(20,20), hist_kwds={'bins':8}, alpha=.5, marker='o', s=50)"
   ]
  },
  {
   "cell_type": "markdown",
   "metadata": {},
   "source": [
    "Graduation Rate and College Enrollment Rate have a distribution that is left skewed.\n",
    "Student Special Ed, ACT result variables and Student Count are all skewed to the right.\n",
    "College Persistence variable is aproximately normally disributed."
   ]
  },
  {
   "cell_type": "markdown",
   "metadata": {},
   "source": [
    "### Regression Modeling"
   ]
  },
  {
   "cell_type": "markdown",
   "metadata": {},
   "source": [
    "#### Random Forest Regressor"
   ]
  },
  {
   "cell_type": "code",
   "execution_count": null,
   "metadata": {},
   "outputs": [],
   "source": [
    "import matplotlib.pyplot as plt\n",
    "from sklearn.ensemble import RandomForestRegressor\n",
    "from sklearn.model_selection import RandomizedSearchCV\n",
    "% matplotlib inline\n",
    "\n",
    "x=pd.read_csv('processed_scaled.csv',index_col=0)\n",
    "x.drop('Graduation_Rate_School', axis=1,inplace=True)\n",
    "y=pd.read_csv('grad_rate.csv', header=None)[1].values"
   ]
  },
  {
   "cell_type": "markdown",
   "metadata": {},
   "source": [
    "Performing random search to find best hyperparameters"
   ]
  },
  {
   "cell_type": "code",
   "execution_count": null,
   "metadata": {},
   "outputs": [],
   "source": [
    "rf = RandomForestRegressor(criterion='mse', n_jobs=-1, random_state=5)\n",
    "\n",
    "rf_params = {'n_estimators': randint(5,100), \n",
    "             'max_features':randint(10, 50),\n",
    "             'max_depth': randint(5, 10), \n",
    "             'min_samples_split': randint(5, 20)}\n",
    "\n",
    "rand_search = RandomizedSearchCV(estimator=rf, param_distributions=rf_params, cv=5, n_jobs=-1, n_iter=50)\n",
    "rand_search.fit(x, y)\n",
    "print rand_search.best_score_\n",
    "print rand_search.best_params_"
   ]
  },
  {
   "cell_type": "markdown",
   "metadata": {},
   "source": [
    "Building model with best parameters"
   ]
  },
  {
   "cell_type": "code",
   "execution_count": null,
   "metadata": {},
   "outputs": [],
   "source": [
    "# building model with best params\n",
    "rf = RandomForestRegressor(n_estimators=34, max_features=36, min_samples_split=5, max_depth=8, n_jobs=-1, random_state=5)\n",
    "rf.fit(x,y)\n",
    "\n",
    "importances = rf.feature_importances_\n",
    "indices = np.argsort(importances)[::-1]\n",
    "top_ten = indices[:10]\n",
    "\n",
    "plt.figure()\n",
    "plt.title(\"Feature importances\")\n",
    "plt.bar(range(10), importances[top_ten],\n",
    "       color=\"r\", align=\"center\")\n",
    "plt.xticks(range(10), top_ten)\n",
    "plt.xlim([-1, 10])\n",
    "plt.show()"
   ]
  },
  {
   "cell_type": "code",
   "execution_count": null,
   "metadata": {},
   "outputs": [],
   "source": [
    "# get names of important features\n",
    "for i in top_ten:\n",
    "    print x.columns[i]"
   ]
  },
  {
   "cell_type": "markdown",
   "metadata": {},
   "source": [
    "### Principal Component Analysis"
   ]
  },
  {
   "cell_type": "code",
   "execution_count": null,
   "metadata": {},
   "outputs": [],
   "source": [
    "continuous_data=data[['Student_Count_Total','Average_ACT_School','College_Enrollment_Rate_School','Growth_ACT_Grade_11_Pct','Attainment_ACT_Grade_11_Pct','Freshmen_On_Track_School_Pct_Year_2','College_Persistence_School_Pct_Year_2','lib_cnt','PRED_NON_ENG_PERCENT','PERCENT OF HOUSING CROWDED','PERCENT HOUSEHOLDS BELOW POVERTY','PERCENT AGED 16+ UNEMPLOYED','PERCENT AGED 25+ WITHOUT HIGH SCHOOL DIPLOMA','PERCENT AGED UNDER 18 OR OVER 64','PER CAPITA INCOME','HARDSHIP INDEX','Suspensions_Per_100_Students_Change','Misconducts_To_Suspensions_Change','Student_Attendance_Change','Teacher_Attendance_Change','One_Year_Dropout_Rate_Change','Student_Low_Income_Pct','Student_Special_Ed_Pct','Student_English_Learners_Pct','Student_Black_Pct','Student_Hispanic_Pct','Student_White_Pct','Student_Asian_Pct']]\n",
    "from sklearn.preprocessing import MinMaxScaler\n",
    "min_max=MinMaxScaler()\n",
    "min_max.fit(continuous_data)\n",
    "\n",
    "from sklearn import decomposition\n",
    "pca =  decomposition.PCA(n_components=10)\n",
    "data_scaled_pca = pca.fit(continuous_scaled)\n",
    "np.set_printoptions(precision=2,suppress=True,threshold=np.nan)\n",
    "pd.set_option('display.max_rows', 500)\n",
    "print 'Explained Variance per Principal Component'\n",
    "print(data_scaled_pca.explained_variance_ratio_)"
   ]
  },
  {
   "cell_type": "markdown",
   "metadata": {},
   "source": [
    "All 10 components explain 91% of the variance. This is nearly 1/3 reduction in variables, while explaining over 90% of the variance."
   ]
  },
  {
   "cell_type": "code",
   "execution_count": null,
   "metadata": {},
   "outputs": [],
   "source": [
    "pd.DataFrame(data_scaled_pca.components_,columns=continuous_scaled.columns,index = ['PC-1','PC-2','PC-3','PC-4','PC-5','PC-6','PC-7','PC-8','PC-9','PC-10']).T"
   ]
  },
  {
   "cell_type": "markdown",
   "metadata": {},
   "source": [
    "### Linear Models"
   ]
  },
  {
   "cell_type": "markdown",
   "metadata": {},
   "source": [
    "### Approach 1: Principal Components + Dummy Variables"
   ]
  },
  {
   "cell_type": "markdown",
   "metadata": {},
   "source": [
    "All models were run with 5-fold Cross Validation"
   ]
  },
  {
   "cell_type": "code",
   "execution_count": null,
   "metadata": {},
   "outputs": [],
   "source": [
    "from sklearn.linear_model import Lasso, Ridge, SGDRegressor, ElasticNet, LinearRegression\n",
    "from sklearn.model_selection import GridSearchCV\n",
    "\n",
    "x=pd.read_csv('pc_dummies.csv',index_col=0)\n",
    "y=pd.read_csv('grad_rate.csv', header=None)[1].values"
   ]
  },
  {
   "cell_type": "markdown",
   "metadata": {},
   "source": [
    "##### Lasso"
   ]
  },
  {
   "cell_type": "code",
   "execution_count": null,
   "metadata": {},
   "outputs": [],
   "source": [
    "alphas=np.linspace(.0001,10,20)\n",
    "param_grid_lasso=dict(alpha=alphas)\n",
    "lasso=Lasso()\n",
    "grid_lasso=GridSearchCV(lasso, param_grid_lasso, n_jobs=-1, cv=5,scoring='r2')\n",
    "\n",
    "result_lasso=grid_lasso.fit(x,y)\n",
    "print result_lasso.best_params_\n",
    "print result_lasso.best_score_\n",
    "print result_lasso.best_estimator_"
   ]
  },
  {
   "cell_type": "markdown",
   "metadata": {},
   "source": [
    "##### Ridge"
   ]
  },
  {
   "cell_type": "code",
   "execution_count": null,
   "metadata": {},
   "outputs": [],
   "source": [
    "param_grid_ridge=dict(alpha=alphas)\n",
    "ridge=Ridge()\n",
    "grid_ridge=GridSearchCV(ridge, param_grid_ridge, n_jobs=-1, cv=5,scoring='r2')\n",
    "\n",
    "result_ridge=grid_ridge.fit(x,y)\n",
    "print result_ridge.best_params_\n",
    "print result_ridge.best_score_\n",
    "print result_ridge.best_estimator_"
   ]
  },
  {
   "cell_type": "markdown",
   "metadata": {},
   "source": [
    "##### Elastic Net"
   ]
  },
  {
   "cell_type": "code",
   "execution_count": null,
   "metadata": {},
   "outputs": [],
   "source": [
    "param_grid_EN=dict(alpha=alphas,l1_ratio=l1_ratios)\n",
    "EN=ElasticNet()\n",
    "grid_EN=GridSearchCV(EN, param_grid_EN, n_jobs=-1, cv=5,scoring='r2')\n",
    "\n",
    "result_EN=grid_EN.fit(x,y)\n",
    "print result_EN.best_params_\n",
    "print result_EN.best_score_\n",
    "print result_EN.best_estimator_"
   ]
  },
  {
   "cell_type": "markdown",
   "metadata": {},
   "source": [
    "Best result out of those 4 models was delivered by Lasso with alpha 0.5264. Elastic Net produced the same result using same alpha and L1_ratio of 1.0, confirming Lasso Regression as the best option. Achieved R-squared is 0.724."
   ]
  },
  {
   "cell_type": "markdown",
   "metadata": {},
   "source": [
    "#### Applying Feature Selection"
   ]
  },
  {
   "cell_type": "code",
   "execution_count": null,
   "metadata": {},
   "outputs": [],
   "source": [
    "from sklearn import metrics\n",
    "from sklearn import feature_selection\n",
    "\n",
    "from sklearn import cross_validation\n",
    "linmod = Lasso(alpha=0.5264105263157894)\n",
    "\n",
    "percentiles = range(1, 100, 1)\n",
    "results = []\n",
    "for i in range(1, 100, 1):\n",
    "    fs = feature_selection.SelectPercentile(feature_selection.f_regression, percentile=i)\n",
    "    x_fs = fs.fit_transform(x, y)\n",
    "    scores = cross_validation.cross_val_score(linmod, x_fs, y, cv=5)\n",
    "    results = np.append(results, scores.mean())\n",
    "\n",
    "optimal_percentile = percentiles[np.where(results == results.max())[0][0]]\n",
    "print  \"Optimal percentile of features:{0}\".format(optimal_percentile), \"\\n\"\n",
    "optimal_num_features = optimal_percentile*len(x.columns)/100\n",
    "print \"Optimal number of features:{0}\".format(optimal_num_features), \"\\n\"\n",
    "\n",
    "# Plot percentile of features VS. cross-validation scores\n",
    "import pylab as pl\n",
    "pl.figure()\n",
    "pl.xlabel(\"Percentage of features selected\")\n",
    "pl.ylabel(\"Cross validation accuracy\")\n",
    "pl.plot(percentiles,results)"
   ]
  },
  {
   "cell_type": "markdown",
   "metadata": {},
   "source": [
    "The optput says optimal percentile is 32, but improvement is marginal from percentile 9. Choosing less variables and easier interpretability, while sacrificing 0.012 (1.2%) of explained variability."
   ]
  },
  {
   "cell_type": "markdown",
   "metadata": {},
   "source": [
    "##### Final Lasso Model with Feature Selection"
   ]
  },
  {
   "cell_type": "code",
   "execution_count": null,
   "metadata": {},
   "outputs": [],
   "source": [
    "fs = feature_selection.SelectPercentile(feature_selection.f_regression, percentile=9)\n",
    "x_fs = fs.fit_transform(x, y)\n",
    "linmod.fit(x_fs, y)\n",
    "names = x.columns.values\n",
    "\n",
    "%matplotlib inline\n",
    "fig_size = pl.rcParams[\"figure.figsize\"]\n",
    "fig_size[0] = 20\n",
    "fig_size[1] = 20\n",
    "\n",
    "def plot_coefficients(model, n_features, feature_names):\n",
    "    pl.barh(range(n_features), model.coef_, align='center')\n",
    "    pl.yticks(np.arange(n_features), feature_names)\n",
    "    pl.xlabel(\"Coefficient Value\")\n",
    "    pl.ylabel(\"Feature\")\n",
    "    pl.ylim(-1, n_features)\n",
    "    pl.rcParams[\"figure.figsize\"] = fig_size\n",
    "    \n",
    "plot_coefficients(linmod, len(names[fs.get_support(indices=True)]), names[fs.get_support(indices=True)])"
   ]
  },
  {
   "cell_type": "markdown",
   "metadata": {},
   "source": [
    "### Approach 2: Full set of variables with/without feature selection"
   ]
  },
  {
   "cell_type": "markdown",
   "metadata": {},
   "source": [
    "##### Lasso"
   ]
  },
  {
   "cell_type": "code",
   "execution_count": null,
   "metadata": {},
   "outputs": [],
   "source": [
    "lasso = Lasso(max_iter=50000)\n",
    "l_space = {'alpha': np.logspace(-4,1,20)}\n",
    "grid = GridSearchCV(estimator=lasso, param_grid = l_space, scoring='neg_mean_squared_error',n_jobs=-1, cv=5)\n",
    "grid.fit(x, y)\n",
    "\n",
    "print 'Best RMSE: '+str(np.sqrt(grid.best_score_*-1))\n",
    "print grid.best_params_"
   ]
  },
  {
   "cell_type": "markdown",
   "metadata": {},
   "source": [
    "##### Ridge"
   ]
  },
  {
   "cell_type": "code",
   "execution_count": null,
   "metadata": {},
   "outputs": [],
   "source": [
    "ridge = Ridge(max_iter=100000)\n",
    "r_space = {'alpha': np.logspace(-1,1,20)}\n",
    "grid = GridSearchCV(estimator=ridge, param_grid = r_space, scoring='neg_mean_squared_error',n_jobs=-1, cv=5)\n",
    "grid.fit(x, y)\n",
    "\n",
    "print 'Best RMSE: '+str(np.sqrt(grid.best_score_*-1))\n",
    "print grid.best_params_"
   ]
  },
  {
   "cell_type": "markdown",
   "metadata": {},
   "source": [
    "##### Elastic Net"
   ]
  },
  {
   "cell_type": "code",
   "execution_count": null,
   "metadata": {},
   "outputs": [],
   "source": [
    "EN = ElasticNet(max_iter=100000)\n",
    "en_space = {'alpha': np.logspace(-2,1,20), 'l1_ratio':np.linspace(0.01,1,10)}\n",
    "grid = GridSearchCV(estimator=EN, param_grid = en_space, scoring='neg_mean_squared_error',n_jobs=-1, cv=5)\n",
    "grid.fit(x, y)\n",
    "\n",
    "print 'Best RMSE: '+str(np.sqrt(grid.best_score_*-1))\n",
    "print grid.best_params_"
   ]
  },
  {
   "cell_type": "markdown",
   "metadata": {},
   "source": [
    "### With Feature Selection"
   ]
  },
  {
   "cell_type": "code",
   "execution_count": null,
   "metadata": {},
   "outputs": [],
   "source": [
    "from sklearn import metrics\n",
    "from sklearn import feature_selection\n",
    "from sklearn.model_selection import cross_val_score"
   ]
  },
  {
   "cell_type": "code",
   "execution_count": null,
   "metadata": {},
   "outputs": [],
   "source": [
    "def get_opt_features(model, x, y):\n",
    "    percentiles = range(1, 100, 10)\n",
    "    results = []\n",
    "    for i in range(1, 100, 10):\n",
    "        fs = feature_selection.SelectPercentile(feature_selection.f_regression, percentile=i)\n",
    "        x_fs = fs.fit_transform(x, y)\n",
    "        scores = cross_val_score(model, x_fs, y, cv=5)\n",
    "        results = np.append(results, scores.mean())\n",
    "\n",
    "    optimal_percentile = percentiles[np.where(results == results.max())[0][0]]\n",
    "\n",
    "    opt_fs = feature_selection.SelectPercentile(feature_selection.f_regression, percentile=optimal_percentile)\n",
    "    return x_fs, optimal_percentile"
   ]
  },
  {
   "cell_type": "markdown",
   "metadata": {},
   "source": [
    "##### Lasso with FS"
   ]
  },
  {
   "cell_type": "code",
   "execution_count": null,
   "metadata": {},
   "outputs": [],
   "source": [
    "fs_lasso = Lasso(max_iter=50000)\n",
    "x_best, p = get_opt_features(fs_lasso, x, y)\n",
    "\n",
    "grid = GridSearchCV(estimator=fs_lasso, param_grid = l_space, scoring='neg_mean_squared_error',n_jobs=-1, cv=5)\n",
    "grid.fit(x_best, y)\n",
    "\n",
    "print 'Feature Percentage: '+str(p)\n",
    "print 'Best RMSE: '+str(np.sqrt(grid.best_score_*-1))\n",
    "print grid.best_params_"
   ]
  },
  {
   "cell_type": "markdown",
   "metadata": {},
   "source": [
    "##### Ridge with FS"
   ]
  },
  {
   "cell_type": "code",
   "execution_count": null,
   "metadata": {},
   "outputs": [],
   "source": [
    "fs_ridge = Ridge()\n",
    "\n",
    "grid = GridSearchCV(estimator=fs_ridge, param_grid = r_space, scoring='neg_mean_squared_error', cv=5)\n",
    "grid.fit(x_best, y)\n",
    "\n",
    "print 'Feature Percentage: '+str(p)\n",
    "print 'Best RMSE: '+str(np.sqrt(grid.best_score_*-1))\n",
    "print grid.best_params_"
   ]
  },
  {
   "cell_type": "markdown",
   "metadata": {},
   "source": [
    "##### Elastic Net with FS"
   ]
  },
  {
   "cell_type": "code",
   "execution_count": null,
   "metadata": {},
   "outputs": [],
   "source": [
    "fs_en = ElasticNet(max_iter=100000)\n",
    "\n",
    "grid = GridSearchCV(estimator=fs_en, param_grid = en_space, scoring='neg_mean_squared_error',n_jobs=-1, cv=5)\n",
    "grid.fit(x_best, y)\n",
    "\n",
    "print 'Feature Percentage: '+str(p)\n",
    "print 'Best RMSE: '+str(np.sqrt(grid.best_score_*-1))\n",
    "print grid.best_params_"
   ]
  },
  {
   "cell_type": "markdown",
   "metadata": {},
   "source": [
    "### Final Model - Lasso"
   ]
  },
  {
   "cell_type": "code",
   "execution_count": 4,
   "metadata": {},
   "outputs": [],
   "source": [
    "### copy from Olga's Code"
   ]
  },
  {
   "cell_type": "markdown",
   "metadata": {},
   "source": [
    "## Overall Modeling Summary"
   ]
  },
  {
   "attachments": {},
   "cell_type": "markdown",
   "metadata": {},
   "source": [
    "#### Approach 1 - PCA and Categorical Features\n",
    "\n",
    "-  Model Type: Lasso\n",
    "-  Feature Selection: 16 variables\n",
    "-  R^2: 0.714\n",
    "\n",
    "#### Approach 2 - All Features\n",
    "\n",
    "-  Model Type: Lasso\n",
    "-  Feature Selection: 60 variables\n",
    "-  R^2: 0.76\n",
    "\n",
    "#### General Takeaways:\n",
    "\n",
    "1. Schools with no data available for student growth rating tend to have lower graduation rate. \n",
    "2. Rating status – intensive support has negative impact on school’s graduation rate. \n",
    "3. School Type – Citywide option has lower graduation rate.\n",
    "4. High ACT results correlate to higher graduation rate.\n",
    "5. Higher college enrollment rates correlate to higher graduation rates."
   ]
  }
 ],
 "metadata": {
  "kernelspec": {
   "display_name": "Python 2",
   "language": "python",
   "name": "python2"
  },
  "language_info": {
   "codemirror_mode": {
    "name": "ipython",
    "version": 2
   },
   "file_extension": ".py",
   "mimetype": "text/x-python",
   "name": "python",
   "nbconvert_exporter": "python",
   "pygments_lexer": "ipython2",
   "version": "2.7.14"
  }
 },
 "nbformat": 4,
 "nbformat_minor": 2
}
