{
 "cells": [
  {
   "cell_type": "code",
   "execution_count": 1,
   "metadata": {},
   "outputs": [],
   "source": [
    "import numpy as np\n",
    "import pandas as pd\n",
    "from scipy.stats import randint\n",
    "import matplotlib.pyplot as plt\n",
    "% matplotlib inline\n",
    "\n",
    "x=pd.read_csv('processed_scaled.csv',index_col=0)\n",
    "x.drop('Graduation_Rate_School', axis=1,inplace=True)\n",
    "y=pd.read_csv('grad_rate.csv', header=None)[1].values"
   ]
  },
  {
   "cell_type": "code",
   "execution_count": 2,
   "metadata": {},
   "outputs": [
    {
     "data": {
      "text/plain": [
       "(121, 192)"
      ]
     },
     "execution_count": 2,
     "metadata": {},
     "output_type": "execute_result"
    }
   ],
   "source": [
    "x.shape"
   ]
  },
  {
   "cell_type": "code",
   "execution_count": 3,
   "metadata": {},
   "outputs": [
    {
     "name": "stdout",
     "output_type": "stream",
     "text": [
      "0.7155928686426536\n",
      "{'max_features': 36, 'min_samples_split': 5, 'n_estimators': 34, 'max_depth': 8}\n"
     ]
    }
   ],
   "source": [
    "from sklearn.ensemble import RandomForestRegressor\n",
    "from sklearn.model_selection import RandomizedSearchCV\n",
    "\n",
    "rf = RandomForestRegressor(criterion='mse', n_jobs=-1, random_state=5)\n",
    "\n",
    "rf_params = {'n_estimators': randint(5,100), \n",
    "             'max_features':randint(10, 50),\n",
    "             'max_depth': randint(5, 10), \n",
    "             'min_samples_split': randint(5, 20)}\n",
    "\n",
    "rand_search = RandomizedSearchCV(estimator=rf, param_distributions=rf_params, cv=5, n_jobs=-1, n_iter=50)\n",
    "rand_search.fit(x, y)\n",
    "print rand_search.best_score_\n",
    "print rand_search.best_params_"
   ]
  },
  {
   "cell_type": "code",
   "execution_count": 4,
   "metadata": {},
   "outputs": [
    {
     "data": {
      "image/png": "[encoded data removed]",
      "text/plain": [
       "<matplotlib.figure.Figure at 0x10b9b5890>"
      ]
     },
     "metadata": {},
     "output_type": "display_data"
    }
   ],
   "source": [
    "# building model with best params\n",
    "rf = RandomForestRegressor(n_estimators=34, max_features=36, min_samples_split=5, max_depth=8, n_jobs=-1, random_state=5)\n",
    "rf.fit(x,y)\n",
    "\n",
    "importances = rf.feature_importances_\n",
    "indices = np.argsort(importances)[::-1]\n",
    "top_ten = indices[:10]\n",
    "\n",
    "plt.figure()\n",
    "plt.title(\"Feature importances\")\n",
    "plt.bar(range(10), importances[top_ten],\n",
    "       color=\"r\", align=\"center\")\n",
    "plt.xticks(range(10), top_ten)\n",
    "plt.xlim([-1, 10])\n",
    "plt.show()"
   ]
  },
  {
   "cell_type": "code",
   "execution_count": 5,
   "metadata": {},
   "outputs": [
    {
     "name": "stdout",
     "output_type": "stream",
     "text": [
      "Student_Growth_Rating_NO DATA AVAILABLE\n",
      "Average_ACT_School\n",
      "Bilingual_Services_U\n",
      "Attainment_ACT_Grade_11_Pct\n",
      "Overall_Rating_Inability to Rate\n",
      "Student_Special_Ed_Pct\n",
      "Student_Attainment_Rating_NO DATA AVAILABLE\n",
      "Refugee_Services_U\n",
      "College_Persistence_School_Pct_Year_2\n",
      "School_Type_Citywide-Option\n"
     ]
    }
   ],
   "source": [
    "# get names of important features\n",
    "for i in top_ten:\n",
    "    print x.columns[i]"
   ]
  },
  {
   "cell_type": "markdown",
   "metadata": {},
   "source": [
    "### Regression Models Without Feature Selection"
   ]
  },
  {
   "cell_type": "markdown",
   "metadata": {},
   "source": [
    "All models run using grid search with 5-fold cross validation on RMSE"
   ]
  },
  {
   "cell_type": "code",
   "execution_count": 3,
   "metadata": {},
   "outputs": [],
   "source": [
    "from sklearn.linear_model import Lasso, Ridge, SGDRegressor, ElasticNet\n",
    "from sklearn.model_selection import GridSearchCV"
   ]
  },
  {
   "cell_type": "markdown",
   "metadata": {},
   "source": [
    "#### Lasso"
   ]
  },
  {
   "cell_type": "code",
   "execution_count": 4,
   "metadata": {},
   "outputs": [
    {
     "name": "stdout",
     "output_type": "stream",
     "text": [
      "Best RMSE: 8.936795436205257\n",
      "{'alpha': 0.14384498882876628}\n"
     ]
    }
   ],
   "source": [
    "lasso = Lasso(max_iter=50000)\n",
    "l_space = {'alpha': np.logspace(-4,1,20)}\n",
    "grid = GridSearchCV(estimator=lasso, param_grid = l_space, scoring='neg_mean_squared_error',n_jobs=-1, cv=5)\n",
    "grid.fit(x, y)\n",
    "\n",
    "print 'Best RMSE: '+str(np.sqrt(grid.best_score_*-1))\n",
    "print grid.best_params_"
   ]
  },
  {
   "cell_type": "markdown",
   "metadata": {},
   "source": [
    "#### Ridge"
   ]
  },
  {
   "cell_type": "code",
   "execution_count": 5,
   "metadata": {},
   "outputs": [
    {
     "name": "stdout",
     "output_type": "stream",
     "text": [
      "Best RMSE: 10.192947565943104\n",
      "{'alpha': 2.3357214690901213}\n"
     ]
    }
   ],
   "source": [
    "ridge = Ridge(max_iter=100000)\n",
    "r_space = {'alpha': np.logspace(-1,1,20)}\n",
    "grid = GridSearchCV(estimator=ridge, param_grid = r_space, scoring='neg_mean_squared_error',n_jobs=-1, cv=5)\n",
    "grid.fit(x, y)\n",
    "\n",
    "print 'Best RMSE: '+str(np.sqrt(grid.best_score_*-1))\n",
    "print grid.best_params_"
   ]
  },
  {
   "cell_type": "markdown",
   "metadata": {},
   "source": [
    "#### Elastic Net"
   ]
  },
  {
   "cell_type": "code",
   "execution_count": 6,
   "metadata": {},
   "outputs": [
    {
     "name": "stdout",
     "output_type": "stream",
     "text": [
      "Best RMSE: 8.960413689993084\n",
      "{'alpha': 0.12742749857031335, 'l1_ratio': 1.0}\n"
     ]
    }
   ],
   "source": [
    "EN = ElasticNet(max_iter=100000)\n",
    "en_space = {'alpha': np.logspace(-2,1,20), 'l1_ratio':np.linspace(0.01,1,10)}\n",
    "grid = GridSearchCV(estimator=EN, param_grid = en_space, scoring='neg_mean_squared_error',n_jobs=-1, cv=5)\n",
    "grid.fit(x, y)\n",
    "\n",
    "print 'Best RMSE: '+str(np.sqrt(grid.best_score_*-1))\n",
    "print grid.best_params_"
   ]
  },
  {
   "cell_type": "markdown",
   "metadata": {},
   "source": [
    "#### SGD"
   ]
  },
  {
   "cell_type": "code",
   "execution_count": 7,
   "metadata": {},
   "outputs": [],
   "source": [
    "#sgd = SGDRegressor(max_iter=100000)\n",
    "#sgd_space = {'alpha': np.linspace(0.0001,1,10), 'penalty':['l2', 'l1'], 'l1_ratio':np.linspace(0.01,1,10)}\n",
    "#grid = GridSearchCV(estimator=sgd, param_grid = sgd_space, scoring='neg_mean_squared_error',n_jobs=-1, cv=5)\n",
    "#grid.fit(x, y)\n",
    "\n",
    "#print 'Best RMSE: '+str(np.sqrt(grid.best_score_*-1))\n",
    "#print grid.best_params_"
   ]
  },
  {
   "cell_type": "markdown",
   "metadata": {},
   "source": [
    "### With Feature Selection"
   ]
  },
  {
   "cell_type": "code",
   "execution_count": 8,
   "metadata": {},
   "outputs": [],
   "source": [
    "from sklearn import metrics\n",
    "from sklearn import feature_selection\n",
    "from sklearn.model_selection import cross_val_score"
   ]
  },
  {
   "cell_type": "code",
   "execution_count": 9,
   "metadata": {},
   "outputs": [],
   "source": [
    "def get_opt_features(model, x, y):\n",
    "    percentiles = range(1, 100, 10)\n",
    "    results = []\n",
    "    for i in range(1, 100, 10):\n",
    "        fs = feature_selection.SelectPercentile(feature_selection.f_regression, percentile=i)\n",
    "        x_fs = fs.fit_transform(x, y)\n",
    "        scores = cross_val_score(model, x_fs, y, cv=5)\n",
    "        results = np.append(results, scores.mean())\n",
    "\n",
    "    optimal_percentile = percentiles[np.where(results == results.max())[0][0]]\n",
    "\n",
    "    opt_fs = feature_selection.SelectPercentile(feature_selection.f_regression, percentile=optimal_percentile)\n",
    "    return x_fs, optimal_percentile"
   ]
  },
  {
   "cell_type": "markdown",
   "metadata": {},
   "source": [
    "#### Lasso"
   ]
  },
  {
   "cell_type": "code",
   "execution_count": 10,
   "metadata": {},
   "outputs": [
    {
     "name": "stdout",
     "output_type": "stream",
     "text": [
      "Feature Percentage: 31\n",
      "Best RMSE: 8.90633721822287\n",
      "{'alpha': 0.14384498882876628}\n"
     ]
    }
   ],
   "source": [
    "fs_lasso = Lasso(max_iter=50000)\n",
    "x_best, p = get_opt_features(fs_lasso, x, y)\n",
    "\n",
    "grid = GridSearchCV(estimator=fs_lasso, param_grid = l_space, scoring='neg_mean_squared_error',n_jobs=-1, cv=5)\n",
    "grid.fit(x_best, y)\n",
    "\n",
    "print 'Feature Percentage: '+str(p)\n",
    "print 'Best RMSE: '+str(np.sqrt(grid.best_score_*-1))\n",
    "print grid.best_params_"
   ]
  },
  {
   "cell_type": "markdown",
   "metadata": {},
   "source": [
    "#### Ridge"
   ]
  },
  {
   "cell_type": "code",
   "execution_count": 12,
   "metadata": {},
   "outputs": [
    {
     "name": "stdout",
     "output_type": "stream",
     "text": [
      "Feature Percentage: 31\n",
      "Best RMSE: 10.165434282194582\n",
      "{'alpha': 2.3357214690901213}\n"
     ]
    }
   ],
   "source": [
    "fs_ridge = Ridge()\n",
    "\n",
    "grid = GridSearchCV(estimator=fs_ridge, param_grid = r_space, scoring='neg_mean_squared_error', cv=5)\n",
    "grid.fit(x_best, y)\n",
    "\n",
    "print 'Feature Percentage: '+str(p)\n",
    "print 'Best RMSE: '+str(np.sqrt(grid.best_score_*-1))\n",
    "print grid.best_params_"
   ]
  },
  {
   "cell_type": "markdown",
   "metadata": {},
   "source": [
    "#### Elastic Net"
   ]
  },
  {
   "cell_type": "code",
   "execution_count": 11,
   "metadata": {},
   "outputs": [
    {
     "name": "stdout",
     "output_type": "stream",
     "text": [
      "Feature Percentage: 31\n",
      "Best RMSE: 8.91902145551519\n",
      "{'alpha': 0.12742749857031335, 'l1_ratio': 1.0}\n"
     ]
    }
   ],
   "source": [
    "fs_en = ElasticNet(max_iter=100000)\n",
    "\n",
    "grid = GridSearchCV(estimator=fs_en, param_grid = en_space, scoring='neg_mean_squared_error',n_jobs=-1, cv=5)\n",
    "grid.fit(x_best, y)\n",
    "\n",
    "print 'Feature Percentage: '+str(p)\n",
    "print 'Best RMSE: '+str(np.sqrt(grid.best_score_*-1))\n",
    "print grid.best_params_"
   ]
  },
  {
   "cell_type": "markdown",
   "metadata": {},
   "source": [
    "#### SGD (not using for now)"
   ]
  },
  {
   "cell_type": "code",
   "execution_count": null,
   "metadata": {},
   "outputs": [],
   "source": [
    "fs_sgd = SGDRegressor(max_iter=100000)\n",
    "x_sgd, p = get_opt_features(fs_sgd, x, y)\n",
    "\n",
    "grid = GridSearchCV(estimator=sgd, param_grid = sgd_space, scoring='neg_mean_squared_error',n_jobs=-1, cv=5)\n",
    "grid.fit(x, y)\n",
    "\n",
    "print 'Best RMSE: '+str(np.sqrt(grid.best_score_*-1))\n",
    "print grid.best_params_"
   ]
  }
 ],
 "metadata": {
  "kernelspec": {
   "display_name": "Python 2",
   "language": "python",
   "name": "python2"
  },
  "language_info": {
   "codemirror_mode": {
    "name": "ipython",
    "version": 2
   },
   "file_extension": ".py",
   "mimetype": "text/x-python",
   "name": "python",
   "nbconvert_exporter": "python",
   "pygments_lexer": "ipython2",
   "version": "2.7.14"
  }
 },
 "nbformat": 4,
 "nbformat_minor": 2
}
