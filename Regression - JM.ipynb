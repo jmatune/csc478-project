{
 "cells": [
  {
   "cell_type": "code",
   "execution_count": 19,
   "metadata": {},
   "outputs": [],
   "source": [
    "import numpy as np\n",
    "import pandas as pd\n",
    "from scipy.stats import randint\n",
    "import matplotlib.pyplot as plt\n",
    "% matplotlib inline\n",
    "\n",
    "x=pd.read_csv('processed_scaled.csv',index_col=0)\n",
    "x.drop('Graduation_Rate_School', axis=1,inplace=True)\n",
    "y=pd.read_csv('grad_rate.csv', header=None)[1].values"
   ]
  },
  {
   "cell_type": "code",
   "execution_count": 20,
   "metadata": {},
   "outputs": [
    {
     "data": {
      "text/plain": [
       "(121, 192)"
      ]
     },
     "execution_count": 20,
     "metadata": {},
     "output_type": "execute_result"
    }
   ],
   "source": [
    "x.shape"
   ]
  },
  {
   "cell_type": "code",
   "execution_count": 21,
   "metadata": {},
   "outputs": [
    {
     "name": "stdout",
     "output_type": "stream",
     "text": [
      "0.7045546207417784\n",
      "{'max_features': 36, 'min_samples_split': 8, 'n_estimators': 66, 'max_depth': 9}\n"
     ]
    }
   ],
   "source": [
    "from sklearn.ensemble import RandomForestRegressor\n",
    "from sklearn.model_selection import RandomizedSearchCV\n",
    "\n",
    "rf = RandomForestRegressor(criterion='mse', n_jobs=-1, random_state=5)\n",
    "\n",
    "rf_params = {'n_estimators': randint(5,100), \n",
    "             'max_features':randint(10, 50),\n",
    "             'max_depth': randint(5, 10), \n",
    "             'min_samples_split': randint(5, 20)}\n",
    "\n",
    "rand_search = RandomizedSearchCV(estimator=rf, param_distributions=rf_params, cv=5, n_jobs=-1, n_iter=50)\n",
    "rand_search.fit(x, y)\n",
    "print rand_search.best_score_\n",
    "print rand_search.best_params_"
   ]
  },
  {
   "cell_type": "code",
   "execution_count": 24,
   "metadata": {},
   "outputs": [
    {
     "data": {
      "image/png": "[encoded data removed]",
      "text/plain": [
       "<matplotlib.figure.Figure at 0x1a17b27150>"
      ]
     },
     "metadata": {},
     "output_type": "display_data"
    }
   ],
   "source": [
    "# building model with best params\n",
    "rf = RandomForestRegressor(n_estimators=66, max_features=36, min_samples_split=8, max_depth=9, n_jobs=-1, random_state=5)\n",
    "rf.fit(x,y)\n",
    "\n",
    "importances = rf.feature_importances_\n",
    "indices = np.argsort(importances)[::-1]\n",
    "top_ten = indices[:10]\n",
    "\n",
    "plt.figure()\n",
    "plt.title(\"Feature importances\")\n",
    "plt.bar(range(10), importances[top_ten],\n",
    "       color=\"r\", align=\"center\")\n",
    "plt.xticks(range(10), top_ten)\n",
    "plt.xlim([-1, 10])\n",
    "plt.show()"
   ]
  },
  {
   "cell_type": "code",
   "execution_count": 25,
   "metadata": {},
   "outputs": [
    {
     "name": "stdout",
     "output_type": "stream",
     "text": [
      "Student_Growth_Rating_NO DATA AVAILABLE\n",
      "Student_Special_Ed_Pct\n",
      "Refugee_Services_U\n",
      "Average_ACT_School\n",
      "School_Type_Citywide-Option\n",
      "Overall_Rating_Inability to Rate\n",
      "Attainment_ACT_Grade_11_Pct\n",
      "Student_Attainment_Rating_NO DATA AVAILABLE\n",
      "College_Enrollment_Rate_School\n",
      "Bilingual_Services_U\n"
     ]
    }
   ],
   "source": [
    "# get names of important features\n",
    "for i in top_ten:\n",
    "    print x.columns[i]"
   ]
  },
  {
   "cell_type": "code",
   "execution_count": null,
   "metadata": {},
   "outputs": [],
   "source": []
  }
 ],
 "metadata": {
  "kernelspec": {
   "display_name": "Python 2",
   "language": "python",
   "name": "python2"
  },
  "language_info": {
   "codemirror_mode": {
    "name": "ipython",
    "version": 2
   },
   "file_extension": ".py",
   "mimetype": "text/x-python",
   "name": "python",
   "nbconvert_exporter": "python",
   "pygments_lexer": "ipython2",
   "version": "2.7.14"
  }
 },
 "nbformat": 4,
 "nbformat_minor": 2
}
