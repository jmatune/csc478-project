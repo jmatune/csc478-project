{
 "cells": [
  {
   "cell_type": "code",
   "execution_count": 1,
   "metadata": {},
   "outputs": [],
   "source": [
    "import pandas as pd\n",
    "import numpy as np"
   ]
  },
  {
   "cell_type": "code",
   "execution_count": 2,
   "metadata": {},
   "outputs": [],
   "source": [
    "import json as js\n",
    "from shapely import geometry"
   ]
  },
  {
   "cell_type": "code",
   "execution_count": 3,
   "metadata": {},
   "outputs": [],
   "source": [
    "json_file_s = open ('C:/Users/vishn/Desktop/Machine Learning/Project/schools.json')\n",
    "json_string_s = json_file_s.read() \n",
    "json_schools = js.loads(json_string_s) \n",
    "json_file_l = open ('C:/Users/vishn/Desktop/Machine Learning/Project/libraries.json')\n",
    "json_string_l = json_file_l.read() \n",
    "json_libraries = js.loads(json_string_l) \n",
    "school=pd.read_csv('C:/Users/vishn/Desktop/Machine Learning/Project/schools.csv')\n",
    "school['School_ID']=school['School_ID'].astype(int)"
   ]
  },
  {
   "cell_type": "code",
   "execution_count": 4,
   "metadata": {},
   "outputs": [],
   "source": [
    "from math import sin, cos, sqrt, atan2, radians"
   ]
  },
  {
   "cell_type": "code",
   "execution_count": 5,
   "metadata": {
    "scrolled": true
   },
   "outputs": [],
   "source": [
    "df=pd.DataFrame(columns=['School_ID','lib_cnt'])\n",
    "for i in range(0,len(json_schools['data'])):\n",
    "    R = 6373.0\n",
    "    if json_schools['data'][i][14]==u'HS':\n",
    "        lon=radians(float(json_schools['data'][i][75]))\n",
    "        lat=radians(float(json_schools['data'][i][76]))\n",
    "        cnt=0\n",
    "        school_id=json_schools['data'][i][8]\n",
    "        for j in range(0,len(json_libraries['data'])):\n",
    "            lon2=radians(float(json_libraries['data'][j][18][1]))\n",
    "            lat2=radians(float(json_libraries['data'][j][18][2]))\n",
    "            dlon = lon2 - lon\n",
    "            dlat = lat2 - lat\n",
    "            a = (sin(dlat/2))**2 + cos(lat) * cos(lat2) * (sin(dlon/2))**2\n",
    "            c = 2 * atan2(sqrt(a), sqrt(1-a))\n",
    "            distance = R * c * 0.621371\n",
    "            if distance<=0.5:\n",
    "                cnt+=1\n",
    "            else:\n",
    "                cnt+=0\n",
    "        newrow=pd.DataFrame([[school_id,cnt],], columns=['School_ID','lib_cnt'])\n",
    "        df=df.append(newrow)\n",
    "df['School_ID']=df['School_ID'].astype(int)        "
   ]
  },
  {
   "cell_type": "code",
   "execution_count": 6,
   "metadata": {},
   "outputs": [],
   "source": [
    "school_lib=school.merge(df,on='School_ID')"
   ]
  },
  {
   "cell_type": "code",
   "execution_count": 7,
   "metadata": {},
   "outputs": [],
   "source": [
    "school_lib.to_csv('C:/Users/vishn/Desktop/Machine Learning/Project/school_lib.csv')"
   ]
  },
  {
   "cell_type": "code",
   "execution_count": null,
   "metadata": {},
   "outputs": [],
   "source": []
  }
 ],
 "metadata": {
  "kernelspec": {
   "display_name": "Python 2",
   "language": "python",
   "name": "python2"
  },
  "language_info": {
   "codemirror_mode": {
    "name": "ipython",
    "version": 2
   },
   "file_extension": ".py",
   "mimetype": "text/x-python",
   "name": "python",
   "nbconvert_exporter": "python",
   "pygments_lexer": "ipython2",
   "version": "2.7.14"
  }
 },
 "nbformat": 4,
 "nbformat_minor": 2
}
